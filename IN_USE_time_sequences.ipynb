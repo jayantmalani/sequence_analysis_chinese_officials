{
 "cells": [
  {
   "cell_type": "code",
   "execution_count": 1,
   "metadata": {
    "collapsed": true
   },
   "outputs": [],
   "source": [
    "import numpy as np\n",
    "import pandas as pd\n",
    "from collections import Counter\n",
    "import pickle\n",
    "import numpy as np\n",
    "import matplotlib.pyplot as plt\n",
    "from __future__ import print_function\n",
    "from tqdm import tqdm\n",
    "import itertools\n",
    "%matplotlib inline"
   ]
  },
  {
   "cell_type": "code",
   "execution_count": 2,
   "metadata": {
    "collapsed": false
   },
   "outputs": [],
   "source": [
    "df = pd.read_csv(\"cc_data_jobrecoded07_12.csv\",dtype=str)\n",
    "# We need to NOT load numbers as floats, 2000 is not the same code as 2000.0\n",
    "# pandas reads in blank cells as NaN. This is useful."
   ]
  },
  {
   "cell_type": "code",
   "execution_count": 3,
   "metadata": {
    "collapsed": true
   },
   "outputs": [],
   "source": [
    "def extract_date_cols(df):\n",
    "    date_inds = []\n",
    "    for i in range(len(df.columns)):\n",
    "        label = df.columns[i]\n",
    "        if ('s' in label or 'e' in label) and ('job' in label):\n",
    "            date_inds.append(i)\n",
    "    cleaned = df.drop(df.columns[date_inds],axis=1)\n",
    "    date_cols = df[date_inds]\n",
    "    return cleaned,date_cols"
   ]
  },
  {
   "cell_type": "code",
   "execution_count": 4,
   "metadata": {
    "collapsed": true
   },
   "outputs": [],
   "source": [
    "# Career sequences (with dates)\n",
    "jobs = df.ix[:,48:]\n",
    "jobs,date_cols = extract_date_cols(jobs)"
   ]
  },
  {
   "cell_type": "code",
   "execution_count": 5,
   "metadata": {
    "collapsed": false
   },
   "outputs": [
    {
     "name": "stdout",
     "output_type": "stream",
     "text": [
      "[' ', '11972', '11978', '1921', '1922', '1923', '1924', '1925', '1926', '1927', '1928', '1929', '1930', '1931', '1932', '1933', '1934', '1935', '1936', '1937', '1938', '1939', '1940', '1941', '1942', '1943', '1944', '1945', '1946', '1947', '1948', '1949', '1950', '1951', '1952', '1953', '1954', '1955', '1956', '1957', '1958', '1959', '1960', '1961', '1962', '1963', '1964', '1965', '1966', '1967', '1968', '1969', '1970', '1971', '1972', '1973', '1974', '1975', '1976', '1977', '1978', '1979', '1980', '1981', '1982', '1983', '1984', '1985', '1986', '1987', '1988', '1989', '1990', '1991', '1992', '1993', '1994', '1995', '1996', '1997', '1998', '1999', '2000', '2001', '2002', '2003', '2004', '2005', '2006', '2007', '2008', '2012', '2013', '2507']\n"
     ]
    }
   ],
   "source": [
    "dates = date_cols.values.flatten()\n",
    "dates = [date for date in dates if date == date]\n",
    "print(sorted(set(dates)))"
   ]
  },
  {
   "cell_type": "code",
   "execution_count": 6,
   "metadata": {
    "collapsed": false
   },
   "outputs": [],
   "source": [
    "job_seqs = []\n",
    "\n",
    "for row_index in range(1605):\n",
    "    job_seq = jobs.ix[row_index:row_index].values[0]\n",
    "    job_seqs.append(job_seq)\n",
    "    \n",
    "dates = []\n",
    "for row_index in range(1605):\n",
    "    years = date_cols.ix[row_index:row_index].values[0]\n",
    "    date_pairs = []\n",
    "    for col_index in range(0,54,2):\n",
    "        t0 = years[col_index]\n",
    "        t1 = years[col_index+1]\n",
    "        # Check if these are Nans\n",
    "        if t0!=t0 or t1!=t1:\n",
    "            t0,t1=(0,0)\n",
    "        else:\n",
    "            t0,t1=(int(t0),int(t1))\n",
    "        date_pairs.append((t0,t1))\n",
    "    dates.append(date_pairs)\n",
    "    \n",
    "birthyears = df.birth.values"
   ]
  },
  {
   "cell_type": "code",
   "execution_count": 7,
   "metadata": {
    "collapsed": false
   },
   "outputs": [
    {
     "data": {
      "text/plain": [
       "nan"
      ]
     },
     "execution_count": 7,
     "metadata": {},
     "output_type": "execute_result"
    }
   ],
   "source": [
    "birthyears[674]"
   ]
  },
  {
   "cell_type": "code",
   "execution_count": 8,
   "metadata": {
    "collapsed": false
   },
   "outputs": [],
   "source": [
    "earliest = 1921\n",
    "latest = 2013\n",
    "tdelta = latest-earliest"
   ]
  },
  {
   "cell_type": "code",
   "execution_count": 9,
   "metadata": {
    "collapsed": false
   },
   "outputs": [],
   "source": [
    "time_seqs = []\n",
    "for job_seq, date_pairs in zip(job_seqs,dates):\n",
    "    time_seq = [[]]*tdelta\n",
    "    for job, date_pair in zip(job_seq, date_pairs):\n",
    "        if job == job:\n",
    "            t_range = range(date_pair[0]-earliest,date_pair[1]-earliest)\n",
    "            for t in t_range:\n",
    "                time_seq[t] = time_seq[t] + [job]\n",
    "    time_seqs.append(time_seq)"
   ]
  },
  {
   "cell_type": "code",
   "execution_count": 10,
   "metadata": {
    "collapsed": false
   },
   "outputs": [],
   "source": [
    "regions = {   'B1':['208','209','210','211','212','214'],\n",
    "              'B2':['205','206','207'],\n",
    "              'B3':['200','201','202','203','204'],\n",
    "              'B4':['218','219','220'],\n",
    "              'B5':['213','215','216','217'],\n",
    "              'B6':['226','227','228','229','230'],\n",
    "              'B7':['221','222','223','224','225']}\n",
    "\n",
    "def recoder(job_code):\n",
    "    if job_code != job_code: # If it is a NaN\n",
    "        return 'Y'\n",
    "    if float(job_code) < 100:\n",
    "        return 'A1'\n",
    "    if job_code[0] == '6':\n",
    "        return 'A1'\n",
    "    if job_code[0] == '1':\n",
    "        return 'A2'\n",
    "    if job_code[0] == '4':\n",
    "        return 'A3'\n",
    "    if job_code[0] == '5':\n",
    "        return 'A4'\n",
    "    if job_code[0] == '3':\n",
    "        return 'C'\n",
    "    if job_code[:2] == '25':\n",
    "        return 'B8'\n",
    "    if job_code[0] == '2':\n",
    "        \n",
    "        prov = job_code[:3]\n",
    "        for region in regions.keys():\n",
    "            if prov in regions[region]:\n",
    "                return region\n",
    "\n",
    "        print('Failed to identify region for ' + job_code)\n",
    "        return 'Z'\n",
    "    else:\n",
    "        print(\"Couldn't classify \" + job_code)\n",
    "        return 'Z'"
   ]
  },
  {
   "cell_type": "code",
   "execution_count": 11,
   "metadata": {
    "collapsed": false
   },
   "outputs": [
    {
     "name": "stdout",
     "output_type": "stream",
     "text": [
      "Failed to identify region for 2457\n",
      "Failed to identify region for 2457\n",
      "Failed to identify region for 2457\n",
      "Failed to identify region for 2457\n"
     ]
    }
   ],
   "source": [
    "time_seqs_r = []\n",
    "for time_seq in time_seqs:\n",
    "    time_seq_r = []\n",
    "    for jobs in time_seq:\n",
    "        time_seq_r.append([recoder(job) for job in jobs])\n",
    "    time_seqs_r.append(time_seq_r)"
   ]
  },
  {
   "cell_type": "code",
   "execution_count": 12,
   "metadata": {
    "collapsed": true
   },
   "outputs": [],
   "source": [
    "codes = ['A1','A2','A3','A4','B1','B2','B3','B4','B5','B6','B7','B8','C','Y','Z']\n",
    "code_names = ['CCP Official/A1','Bureaucracy/A2','Congress/A3',\n",
    "              'Judicial/A4',\n",
    "              'Eastern/B1',\n",
    "              'NorthEast/B2',\n",
    "              'North/B3',\n",
    "              'South/B4',\n",
    "              'Central/B5',\n",
    "              'NorthWest/B6',\n",
    "              'SouthWest/B7',\n",
    "              'Prov. CCP Head/B8',\n",
    "              'Military/C',\n",
    "              'Outside gov/Y',\n",
    "              'Unclassified/Z']\n",
    "              \n",
    "graph_codes = [1,2,3,4,5,6,7,8,9,10,11,12,13,14,15]\n",
    "graph_map = dict(zip(codes,graph_codes))"
   ]
  },
  {
   "cell_type": "code",
   "execution_count": 13,
   "metadata": {
    "collapsed": true
   },
   "outputs": [],
   "source": [
    "# Convert each career trajectory to a numerical sequence\n",
    "# that matplotlib can plot.\n",
    "time_seqs_g = []\n",
    "for time_seq in time_seqs_r:\n",
    "    time_seq_g = []\n",
    "    for jobs in time_seq:\n",
    "        if jobs == []:\n",
    "            time_seq_g.append([0])\n",
    "        else:\n",
    "            time_seq_g.append([graph_map[job] for job in jobs])\n",
    "    time_seqs_g.append(time_seq_g)\n"
   ]
  },
  {
   "cell_type": "code",
   "execution_count": 14,
   "metadata": {
    "collapsed": false
   },
   "outputs": [],
   "source": [
    "# Convert to... edges? to allow plotting\n",
    "pointPairs_seqs = []\n",
    "for time_seq_g in time_seqs_g:\n",
    "    \n",
    "    pointPairs = []\n",
    "    tdelta = len(time_seq_g)\n",
    "    for i in range(tdelta):\n",
    "        \n",
    "        \n",
    "        if i == tdelta-1:\n",
    "            break\n",
    "            \n",
    "        currentJobs = time_seq_g[i]\n",
    "        nextJobs = time_seq_g[i+1]\n",
    "        \n",
    "        for cJob in currentJobs:\n",
    "            xPoint = [i,i+1]\n",
    "            for nJob in nextJobs:\n",
    "                yPoint = [cJob,nJob]\n",
    "                pointPairs.append(xPoint)\n",
    "                pointPairs.append(yPoint)\n",
    "    \n",
    "    \n",
    "    pointPairs_seqs.append(pointPairs)\n"
   ]
  },
  {
   "cell_type": "code",
   "execution_count": 15,
   "metadata": {
    "collapsed": true
   },
   "outputs": [],
   "source": [
    "def plot_traj_group(traj_group,color,plotname):\n",
    "    plt.figure()\n",
    "    for traj in traj_group:\n",
    "        plt.plot(range(len(traj)),traj,\n",
    "            alpha=0.03,\n",
    "            color=color,\n",
    "            marker='o')\n",
    "\n",
    "        # Set the x- and y-axis labels\n",
    "    plt.xticks(np.arange(0,26,1.0))\n",
    "    #plt.yticks(np.arange(1,16,1.0),codes,size=18)\n",
    "    plt.yticks(np.arange(1,16,1.0),code_names,size=14)\n",
    "    \n",
    "\n",
    "    # Specifies the domain and range displayed\n",
    "    plt.axis([0,25,0,15])\n",
    "\n",
    "    #plt.gca().xaxis.grid(True)\n",
    "    #plt.gca().yaxis.grid(True)\n",
    "\n",
    "    fig = plt.gcf() # Returns the current figure instance\n",
    "    fig.tight_layout()\n",
    "    fig.set_size_inches(18, 7)\n",
    "    fig.savefig(plotname,bbox_inches='tight')"
   ]
  },
  {
   "cell_type": "code",
   "execution_count": 16,
   "metadata": {
    "collapsed": false
   },
   "outputs": [
    {
     "name": "stdout",
     "output_type": "stream",
     "text": [
      "hello\n"
     ]
    }
   ],
   "source": [
    "print('hello')"
   ]
  },
  {
   "cell_type": "code",
   "execution_count": 23,
   "metadata": {
    "collapsed": false
   },
   "outputs": [
    {
     "name": "stderr",
     "output_type": "stream",
     "text": []
    },
    {
     "data": {
      "image/png": "[encoded data removed]",
      "text/plain": [
       "<matplotlib.figure.Figure at 0x11e3af8d0>"
      ]
     },
     "metadata": {},
     "output_type": "display_data"
    }
   ],
   "source": [
    "for pointPairs in tqdm(pointPairs_seqs):\n",
    "    plt.plot(*pointPairs,alpha=0.005)\n",
    "    \n",
    "#plt.plot(*pointPairs_seqs[0],alpha=0.25,color='r')\n",
    "#plt.plot(*pointPairs_seqs[1],alpha=0.25,color='g')\n",
    "#plt.plot(*pointPairs_seqs[2],alpha=0.25,color='b')\n",
    "#plt.plot(*pointPairs_seqs[3],alpha=0.25,color='m')\n",
    "\n",
    "\n",
    "dates = range(1920,2013,5)\n",
    "plt.xticks(np.arange(1,92,5.0),dates)\n",
    "plt.yticks(np.arange(1,16,1.0),codes,size=18)\n",
    "plt.axis([0,94,0,15])\n",
    "\n",
    "plt.gca().yaxis.grid(True)\n",
    "\n",
    "\n",
    "\n",
    "fig = plt.gcf() # Returns the current figure instance\n",
    "fig.set_size_inches(18, 7)\n",
    "fig.savefig('TimeSequence_entire.png',bbox_inches='tight',dpi=400)\n"
   ]
  },
  {
   "cell_type": "code",
   "execution_count": null,
   "metadata": {
    "collapsed": true
   },
   "outputs": [],
   "source": []
  }
 ],
 "metadata": {
  "kernelspec": {
   "display_name": "Python 2",
   "language": "python",
   "name": "python2"
  },
  "language_info": {
   "codemirror_mode": {
    "name": "ipython",
    "version": 2
   },
   "file_extension": ".py",
   "mimetype": "text/x-python",
   "name": "python",
   "nbconvert_exporter": "python",
   "pygments_lexer": "ipython2",
   "version": "2.7.5"
  }
 },
 "nbformat": 4,
 "nbformat_minor": 0
}
