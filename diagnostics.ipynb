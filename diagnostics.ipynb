{
 "cells": [
  {
   "cell_type": "code",
   "execution_count": 1,
   "metadata": {
    "collapsed": false
   },
   "outputs": [],
   "source": [
    "import pandas as pd\n",
    "from collections import Counter"
   ]
  },
  {
   "cell_type": "code",
   "execution_count": 2,
   "metadata": {
    "collapsed": false
   },
   "outputs": [],
   "source": [
    "df = pd.read_csv(\"cc_data_jobrecoded07_12.csv\",dtype=str)\n",
    "# We need to NOT load numbers as floats, 2000 is not the same code as 2000.0\n",
    "# pandas reads in blank cells as NaN. This is useful."
   ]
  },
  {
   "cell_type": "markdown",
   "metadata": {},
   "source": [
    "** Diagnostics with just the job sequences:**"
   ]
  },
  {
   "cell_type": "code",
   "execution_count": 3,
   "metadata": {
    "collapsed": false
   },
   "outputs": [],
   "source": [
    "# Career sequences (with dates)\n",
    "jobs = df.ix[:,48:]"
   ]
  },
  {
   "cell_type": "code",
   "execution_count": 4,
   "metadata": {
    "collapsed": false,
    "scrolled": true
   },
   "outputs": [],
   "source": [
    "# Get rid of the date columns\n",
    "def remove_date_cols(dataframe):\n",
    "    date_inds = []\n",
    "    for i in range(len(dataframe.columns)):\n",
    "        label = dataframe.columns[i]\n",
    "        if ('s' in label or 'e' in label) and ('job' in label):\n",
    "            date_inds.append(i)\n",
    "    dataframe = dataframe.drop(jobs.columns[date_inds],axis=1)\n",
    "    return dataframe"
   ]
  },
  {
   "cell_type": "code",
   "execution_count": 5,
   "metadata": {
    "collapsed": false,
    "scrolled": true
   },
   "outputs": [],
   "source": [
    "jobs = remove_date_cols(jobs)"
   ]
  },
  {
   "cell_type": "code",
   "execution_count": 6,
   "metadata": {
    "collapsed": false,
    "scrolled": false
   },
   "outputs": [
    {
     "name": "stdout",
     "output_type": "stream",
     "text": [
      "43335\n",
      "13184\n"
     ]
    }
   ],
   "source": [
    "# Get all the job codes in the data\n",
    "import math\n",
    "data_jobs = jobs.values.flatten()\n",
    "print len(data_jobs)\\\n",
    "#Remove the NaNs\n",
    "data_jobs = [x for x in data_jobs if x==x]\n",
    "print len(data_jobs)\n",
    "#Convert the floats to strings, because 2001 is not the same job as 2001.1"
   ]
  },
  {
   "cell_type": "code",
   "execution_count": 7,
   "metadata": {
    "collapsed": false
   },
   "outputs": [],
   "source": [
    "#Opening codebook\n",
    "import re\n",
    "f = open('codebook_regions.txt')\n",
    "codelines = f.readlines()\n",
    "region_jobs = []\n",
    "for line in codelines:\n",
    "    region_jobs.append(re.findall(r'\\d+\\.\\d+', line))\n",
    "# Purge empty lists from lines with no numbers\n",
    "region_jobs = [item for sublist in region_jobs for item in sublist]"
   ]
  },
  {
   "cell_type": "code",
   "execution_count": 8,
   "metadata": {
    "collapsed": true
   },
   "outputs": [],
   "source": [
    "data_jobs = set(data_jobs)\n",
    "region_jobs = set(region_jobs)"
   ]
  },
  {
   "cell_type": "code",
   "execution_count": 9,
   "metadata": {
    "collapsed": false
   },
   "outputs": [
    {
     "name": "stdout",
     "output_type": "stream",
     "text": [
      "13020\n",
      "667\n"
     ]
    }
   ],
   "source": [
    "print len(region_jobs)\n",
    "print len(data_jobs)"
   ]
  },
  {
   "cell_type": "code",
   "execution_count": 10,
   "metadata": {
    "collapsed": false
   },
   "outputs": [
    {
     "data": {
      "text/plain": [
       "31"
      ]
     },
     "execution_count": 10,
     "metadata": {},
     "output_type": "execute_result"
    }
   ],
   "source": [
    "both = (data_jobs.intersection(region_jobs))\n",
    "len(both)"
   ]
  },
  {
   "cell_type": "code",
   "execution_count": 11,
   "metadata": {
    "collapsed": false
   },
   "outputs": [
    {
     "data": {
      "text/plain": [
       "40"
      ]
     },
     "execution_count": 11,
     "metadata": {},
     "output_type": "execute_result"
    }
   ],
   "source": [
    "mil_jobs =[job for job in data_jobs if job[:2] == '35']\n",
    "len(mil_jobs)"
   ]
  },
  {
   "cell_type": "markdown",
   "metadata": {},
   "source": [
    "How many people have region-specific jobs in their histories?"
   ]
  },
  {
   "cell_type": "markdown",
   "metadata": {},
   "source": [
    "** Let's do some tests with gender: **"
   ]
  },
  {
   "cell_type": "code",
   "execution_count": 12,
   "metadata": {
    "collapsed": false
   },
   "outputs": [
    {
     "data": {
      "text/plain": [
       "Counter({'0': 119, '1': 1486})"
      ]
     },
     "execution_count": 12,
     "metadata": {},
     "output_type": "execute_result"
    }
   ],
   "source": [
    "Counter(df['gender'])"
   ]
  },
  {
   "cell_type": "code",
   "execution_count": 13,
   "metadata": {
    "collapsed": true
   },
   "outputs": [
    {
     "data": {
      "text/plain": [
       "6      24\n",
       "20     24\n",
       "27     24\n",
       "29      9\n",
       "32     12\n",
       "42     18\n",
       "46      6\n",
       "76     18\n",
       "79     52\n",
       "80     12\n",
       "89     24\n",
       "92     15\n",
       "95     15\n",
       "108    24\n",
       "109     9\n",
       "...\n",
       "1323    21\n",
       "1329    18\n",
       "1331    27\n",
       "1361     9\n",
       "1403    24\n",
       "1413    21\n",
       "1453     9\n",
       "1457    12\n",
       "1464    12\n",
       "1486    27\n",
       "1520    12\n",
       "1547     9\n",
       "1559     6\n",
       "1579    24\n",
       "1593    15\n",
       "Length: 119, dtype: int64"
      ]
     },
     "execution_count": 13,
     "metadata": {},
     "output_type": "execute_result"
    }
   ],
   "source": [
    "women = df.loc[df['gender'] == '0']\n",
    "men = df.loc[df['gender'] == '1']\n",
    "women_jobs = women.ix[:,48:]\n",
    "men_jobs = men.ix[:,48:]\n",
    "women_jobs.count(axis=1)"
   ]
  },
  {
   "cell_type": "markdown",
   "metadata": {
    "collapsed": true
   },
   "source": [
    "How about the number of people who are purged?"
   ]
  },
  {
   "cell_type": "code",
   "execution_count": 14,
   "metadata": {
    "collapsed": false
   },
   "outputs": [
    {
     "data": {
      "text/plain": [
       "Counter({nan: 2, '0': 994, '1': 609})"
      ]
     },
     "execution_count": 14,
     "metadata": {},
     "output_type": "execute_result"
    }
   ],
   "source": [
    "Counter(df['purged'])"
   ]
  },
  {
   "cell_type": "code",
   "execution_count": null,
   "metadata": {
    "collapsed": true
   },
   "outputs": [],
   "source": []
  }
 ],
 "metadata": {
  "kernelspec": {
   "display_name": "Python 2",
   "language": "python",
   "name": "python2"
  },
  "language_info": {
   "codemirror_mode": {
    "name": "ipython",
    "version": 2
   },
   "file_extension": ".py",
   "mimetype": "text/x-python",
   "name": "python",
   "nbconvert_exporter": "python",
   "pygments_lexer": "ipython2",
   "version": "2.7.5"
  }
 },
 "nbformat": 4,
 "nbformat_minor": 0
}
